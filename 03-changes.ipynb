{
 "cells": [
  {
   "cell_type": "markdown",
   "metadata": {},
   "source": [
    "---\n",
    "title: Tracking Changes\n",
    "date: 2023-11-30 \n",
    "authors:\n",
    "  - name: Sébastien Boisgérault\n",
    "    email: Sebastien.Boisgerault@minesparis.psl.eu\n",
    "    url: https://github.com/boisgera\n",
    "    affiliations:\n",
    "      - institution: Mines Paris - PSL University\n",
    "        department: Institut des Transformation Numériques (ITN)\n",
    "github: boisgera\n",
    "license: CC-BY-4.0\n",
    "open_access: true\n",
    "---"
   ]
  },
  {
   "cell_type": "markdown",
   "metadata": {},
   "source": [
    "In order to understand how `.tldr` files are structured, we can add a new graphical objects, change some if their properties, etc. and each time we modify the document, analyze the corresponding evolution of the file.\n",
    "\n",
    "In this notebook, we develop some tooling to help us track such changes."
   ]
  },
  {
   "cell_type": "markdown",
   "metadata": {},
   "source": [
    "## Text comparison"
   ]
  },
  {
   "cell_type": "markdown",
   "metadata": {},
   "source": [
    "We define two similar versions of the \"zen of Python\":"
   ]
  },
  {
   "cell_type": "code",
   "execution_count": 1,
   "metadata": {},
   "outputs": [],
   "source": [
    "zen_1 = \"\"\"The Zen of Python, by Tim Peters\n",
    "\n",
    "Beautiful is better than ugly.\n",
    "Explicit is better than implicit.\n",
    "Simple is better than complex.\n",
    "Complex is better than complicated.\n",
    "Flat is better than nested.\n",
    "Sparse is better than dense.\n",
    "Readability counts.\n",
    "Special cases aren't special enough to break the rules.\n",
    "Errors should never pass silently.\n",
    "In the face of ambiguity, refuse the temptation to guess.\n",
    "There should be one obvious way to do it.\n",
    "Although that way may not be obvious at first.\n",
    "Now is better than never.\n",
    "Although never is often better than right now.\n",
    "If the implementation is hard to explain, it's a bad idea.\n",
    "If the implementation is easy to explain, it is a good idea.\n",
    "\"\"\""
   ]
  },
  {
   "cell_type": "code",
   "execution_count": 2,
   "metadata": {},
   "outputs": [],
   "source": [
    "zen_2 = \"\"\"\\\n",
    "The Zen of Python, by Tim Peters\n",
    "\n",
    "Beautiful is better than ugly.\n",
    "Explicit is better than implicit.\n",
    "Simple is better than complex.\n",
    "Complex is better than complicated.\n",
    "Flat is better than nested.\n",
    "Sparse is better than dense.\n",
    "Readability counts.\n",
    "Special cases aren't special enough to break the rules.\n",
    "Although practicality beats purity.\n",
    "Errors should never pass silently.\n",
    "Unless explicitly silenced.\n",
    "In the face of ambiguity, refuse the temptation to guess.\n",
    "There should be one-- and preferably only one --obvious way to do it.\n",
    "Although that way may not be obvious at first unless you're Dutch.\n",
    "Now is better than never.\n",
    "Although never is often better than *right* now.\n",
    "If the implementation is hard to explain, it's a bad idea.\n",
    "If the implementation is easy to explain, it may be a good idea.\n",
    "Namespaces are one honking great idea -- let's do more of those!\n",
    "\"\"\""
   ]
  },
  {
   "cell_type": "markdown",
   "metadata": {},
   "source": [
    "```{exercise}\n",
    " 1. Transform `zen_1` and `zen_2` into list of lines.\n",
    " 2. Use the [`difflib`](https://docs.python.org/3/library/difflib.html) module of the Python standard library to [`compare`](https://docs.python.org/3/library/difflib.html#difflib.Differ.compare) the two sequences.\n",
    " 3. Make a text out of the output of compare and print it.\n",
    " 4. Interpret the result and list the differences between both versions of the zen of Python.\n",
    "```"
   ]
  },
  {
   "cell_type": "markdown",
   "metadata": {},
   "source": [
    "**Exercice 1**\n",
    "\n",
    "1."
   ]
  },
  {
   "cell_type": "code",
   "execution_count": 3,
   "metadata": {},
   "outputs": [],
   "source": [
    "zen_1_list = zen_1.splitlines()\n",
    "zen_2_list = zen_2.splitlines()"
   ]
  },
  {
   "cell_type": "markdown",
   "metadata": {},
   "source": [
    "2. et 3."
   ]
  },
  {
   "cell_type": "code",
   "execution_count": 4,
   "metadata": {},
   "outputs": [
    {
     "name": "stdout",
     "output_type": "stream",
     "text": [
      "--- \n",
      "+++ \n",
      "@@ -8,11 +8,14 @@\n",
      " Sparse is better than dense.\n",
      " Readability counts.\n",
      " Special cases aren't special enough to break the rules.\n",
      "+Although practicality beats purity.\n",
      " Errors should never pass silently.\n",
      "+Unless explicitly silenced.\n",
      " In the face of ambiguity, refuse the temptation to guess.\n",
      "-There should be one obvious way to do it.\n",
      "-Although that way may not be obvious at first.\n",
      "+There should be one-- and preferably only one --obvious way to do it.\n",
      "+Although that way may not be obvious at first unless you're Dutch.\n",
      " Now is better than never.\n",
      "-Although never is often better than right now.\n",
      "+Although never is often better than *right* now.\n",
      " If the implementation is hard to explain, it's a bad idea.\n",
      "-If the implementation is easy to explain, it is a good idea.\n",
      "+If the implementation is easy to explain, it may be a good idea.\n",
      "+Namespaces are one honking great idea -- let's do more of those!\n"
     ]
    }
   ],
   "source": [
    "import difflib\n",
    "diff = difflib.unified_diff(zen_1_list, zen_2_list, lineterm='')\n",
    "for line in diff:\n",
    "    print(line)"
   ]
  },
  {
   "cell_type": "markdown",
   "metadata": {},
   "source": [
    "4. Les différences entre les textes se situent aux lignes où l'on retrouve les + et - au début. Les - concernent les lignes différentes sur zen_1 et les + celles sur zen_2. Si on a une seule ligne au mileu des autres qui est repérée, c'est qu'elle est un pur rajout ou manque. Si on voit plusieurs lignes à la suite avec un + et un -, c'est surement qu'il y a une différence d'orthographe ou de syntaxe entre les lignes. \n",
    "\n",
    "Ainsi, on retrouve trois lignes dans zen_2 qui ne sont pas dans zen_1 :\n",
    "\n",
    "    - Although practicality beats purity.\n",
    "\n",
    "    - Unless explicitly silenced\n",
    "\n",
    "    - Namespaces are one honking great idea -- let's do more of those!\n",
    "\n",
    "On a des mots rajoutés dans zen_2:\n",
    "\n",
    "    - -- and preferably only one --\n",
    "\n",
    "    - unless you're Dutch.\n",
    "\n",
    "Dans zen_2 il y a aussi des étoiles rajoutées autour de right dans \"right now\"\n",
    "\n",
    "Enfin, dans zen_2 il est dit non pas \"it is a good idea\" mais \"it may be a good idea\"\n"
   ]
  },
  {
   "cell_type": "markdown",
   "metadata": {},
   "source": [
    "We can make our job easier if we use HTML instead of plain text to visualise the differences between the two texts.\n",
    "\n",
    "\n",
    "```{exercise}\n",
    "  1. Use the [HtmlDiff](https://docs.python.org/3/library/difflib.html#difflib.HtmlDiff) class of difflib to produce a `diff.html` file that represents this difference in a HTML document.\n",
    "  2. Use the [webbrowser](https://docs.python.org/3/library/webbrowser.html) module of the standard library to open it!\n",
    "  3. Define a `display_diff_text` function that takes two arguments `text_1` and `text_2` and automates steps 1. and 2.\n",
    "```"
   ]
  },
  {
   "cell_type": "markdown",
   "metadata": {},
   "source": [
    "**Exercice 2**\n",
    "\n",
    "1."
   ]
  },
  {
   "cell_type": "code",
   "execution_count": 5,
   "metadata": {},
   "outputs": [],
   "source": [
    "diff_html = difflib.HtmlDiff().make_file(zen_1.splitlines(), zen_2.splitlines(), fromdesc='zen_1', todesc='zen_2')\n",
    "\n",
    "with open(\"C:/Users/doria/cours_info/langage/tldraw-project/docs/diff.html\", \"w\") as file:\n",
    "    file.write(diff_html)"
   ]
  },
  {
   "cell_type": "markdown",
   "metadata": {},
   "source": [
    "2."
   ]
  },
  {
   "cell_type": "code",
   "execution_count": 6,
   "metadata": {},
   "outputs": [
    {
     "data": {
      "text/plain": [
       "True"
      ]
     },
     "execution_count": 6,
     "metadata": {},
     "output_type": "execute_result"
    }
   ],
   "source": [
    "import webbrowser \n",
    "\n",
    "webbrowser.open(\"C:/Users/doria/cours_info/langage/tldraw-project/docs/diff.html\")"
   ]
  },
  {
   "cell_type": "markdown",
   "metadata": {},
   "source": [
    "3."
   ]
  },
  {
   "cell_type": "code",
   "execution_count": 7,
   "metadata": {},
   "outputs": [],
   "source": [
    "def display_diff_text(text_1, text_2):\n",
    "    import webbrowser\n",
    "    import difflib\n",
    "    diff_html = difflib.HtmlDiff().make_file(text_1.splitlines(), text_2.splitlines(), fromdesc='text_1', todesc='text_2')\n",
    "    with open(\"diff_text.html\", \"w\") as file:\n",
    "        file.write(diff_html)\n",
    "    webbrowser.open(\"diff_text.html\")"
   ]
  },
  {
   "cell_type": "markdown",
   "metadata": {},
   "source": [
    "## Comparison of JSON documents"
   ]
  },
  {
   "cell_type": "markdown",
   "metadata": {},
   "source": [
    "````{exercise} Comparison of dictionnaries\n",
    "\n",
    " 1. Create a `display_diff` function that takes two Python objects, converts them to strings then leverages `display_diff_text` to display the difference in a browser.\n",
    "\n",
    " 2. Consider the 3 dictionaries defined by\n",
    "    ```python\n",
    "    d1 = {k:k+1 for k in range(100)}\n",
    "    d2 = d1.copy(); d2[50] = 50\n",
    "    d3 = {k:k+1 for k in range(99, -1, -1)}\n",
    "    ```\n",
    "    `d1` and `d2` have a slight difference and `d1` and `d2` are equal.\n",
    "    Does your `display_diff` function make easy to spot where the difference is in the first case when it compares `d1` and `d2`?\n",
    "    Does it make easy to see that `d1` and `d3` are equal?\n",
    "\n",
    "  3. Investigate the [`pprint`](https://docs.python.org/3/library/pprint.html) module standard library ; use it to improve the behavior of `display_text_diff` in the two cases considered in the previous question.\n",
    "\n",
    "````\n",
    " "
   ]
  },
  {
   "cell_type": "markdown",
   "metadata": {},
   "source": [
    "**Exercice 3**\n",
    "\n",
    "1."
   ]
  },
  {
   "cell_type": "code",
   "execution_count": 8,
   "metadata": {},
   "outputs": [],
   "source": [
    "def display_diff(obj_1, obj_2):\n",
    "    str_obj_1 = str(obj_1)\n",
    "    str_obj_2 = str(obj_2)\n",
    "    display_diff_text(str_obj_1, str_obj_2)"
   ]
  },
  {
   "cell_type": "markdown",
   "metadata": {},
   "source": [
    "2."
   ]
  },
  {
   "cell_type": "code",
   "execution_count": 9,
   "metadata": {},
   "outputs": [],
   "source": [
    "d1 = {k:k+1 for k in range(100)}\n",
    "d2 = d1.copy(); d2[50] = 50\n",
    "d3 = {k:k+1 for k in range(99, -1, -1)}"
   ]
  },
  {
   "cell_type": "code",
   "execution_count": 10,
   "metadata": {},
   "outputs": [],
   "source": [
    "display_diff(d1,d2)"
   ]
  },
  {
   "cell_type": "code",
   "execution_count": 11,
   "metadata": {},
   "outputs": [],
   "source": [
    "display_diff(d1,d3)"
   ]
  },
  {
   "cell_type": "markdown",
   "metadata": {},
   "source": [
    "La fonction `display_diff` ne rend pas les différences et égalitées entre les listes évidentes, que ce soit entre `d1 et d2` ou entre `d1 et d3`. \n",
    "\n",
    "\n",
    "\n",
    "3."
   ]
  },
  {
   "cell_type": "code",
   "execution_count": 12,
   "metadata": {},
   "outputs": [],
   "source": [
    "def display_diff_text(text_1, text_2):\n",
    "    import pprint\n",
    "    text_1_pprint = pprint.pformat(text_1)\n",
    "    text_2_pprint = pprint.pformat(text_2)\n",
    "    \n",
    "    diff_html = difflib.HtmlDiff().make_file(text_1_pprint.splitlines(), text_2_pprint.splitlines(), fromdesc='text_1', todesc='text_2')\n",
    "    with open(\"C:/Users/doria/cours_info/langage/tldraw-project/docs/diff_text.html\", \"w\") as file:\n",
    "        file.write(diff_html)\n",
    "    webbrowser.open(\"C:/Users/doria/cours_info/langage/tldraw-project/docs/diff_text.html\")"
   ]
  },
  {
   "cell_type": "code",
   "execution_count": 13,
   "metadata": {},
   "outputs": [],
   "source": [
    "display_diff(d1,d2)"
   ]
  },
  {
   "cell_type": "code",
   "execution_count": 14,
   "metadata": {},
   "outputs": [],
   "source": [
    "display_diff(d1,d3)"
   ]
  },
  {
   "cell_type": "markdown",
   "metadata": {},
   "source": [
    "La fonction permet maintenant de bien mettre en évidence la différence entre `d1 et d2`, cependant, du fait que `d1 et d3` sont identique mais en sens inverse, le programme ne voit pas qu'elles sont identiques. "
   ]
  },
  {
   "cell_type": "markdown",
   "metadata": {},
   "source": [
    "```{exercise} tldraw documents comparator\n",
    "Implement a function `tldraw_diff` that takes as argument two filenames that refer to tldraw documents and display their differences in the browser.\n",
    "```"
   ]
  },
  {
   "cell_type": "markdown",
   "metadata": {},
   "source": [
    "**Exercice 4**"
   ]
  },
  {
   "cell_type": "code",
   "execution_count": 15,
   "metadata": {},
   "outputs": [],
   "source": [
    "def read_tldraw_file(filename):\n",
    "    with open(filename, \"r\") as file:\n",
    "        tldraw = file.read()\n",
    "    return tldraw\n",
    "\n",
    "def tldraw_diff(file1, file2):\n",
    "    tldraw1 = read_tldraw_file(file1)\n",
    "    tldraw2 = read_tldraw_file(file2)\n",
    "    display_diff_text(tldraw1, tldraw2)"
   ]
  }
 ],
 "metadata": {
  "kernelspec": {
   "display_name": "Python 3 (ipykernel)",
   "language": "python",
   "name": "python3"
  },
  "language_info": {
   "codemirror_mode": {
    "name": "ipython",
    "version": 3
   },
   "file_extension": ".py",
   "mimetype": "text/x-python",
   "name": "python",
   "nbconvert_exporter": "python",
   "pygments_lexer": "ipython3",
   "version": "3.11.4"
  }
 },
 "nbformat": 4,
 "nbformat_minor": 4
}
