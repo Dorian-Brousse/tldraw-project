{
 "cells": [
  {
   "cell_type": "markdown",
   "id": "6afeba13-eb70-47c4-a2b1-7b987782a7a9",
   "metadata": {},
   "source": [
    "---\n",
    "title: Layers\n",
    "date: 2023-12-1 \n",
    "authors:\n",
    "  - name: Sébastien Boisgérault\n",
    "    email: Sebastien.Boisgerault@minesparis.psl.eu\n",
    "    url: https://github.com/boisgera\n",
    "    affiliations:\n",
    "      - institution: Mines Paris - PSL University\n",
    "        department: Institut des Transformation Numériques (ITN)\n",
    "github: boisgera\n",
    "license: CC-BY-4.0\n",
    "open_access: true\n",
    "---"
   ]
  },
  {
   "cell_type": "markdown",
   "id": "08881845-8a6c-4dff-9877-ab61c5d6d41d",
   "metadata": {},
   "source": [
    "# Stack of Cards\n",
    "\n",
    "\n",
    "```{exercise}\n",
    "1. Create a set of filled rectangles with the following sequence of colors: black, violet, blue, orange green and red. \n",
    "2. If necessary, move the rectangles so that they overlap and you can see which one is on top of the other.\n",
    "3. Which one is at the back of the document? Which one is at the top?  \n",
    "```"
   ]
  },
  {
   "cell_type": "markdown",
   "id": "09912337-2cca-447d-b7b8-e5d079627734",
   "metadata": {},
   "source": [
    "**Exercice 1**\n",
    "\n",
    "Le noir est au fond du document et le rouge est au dessus."
   ]
  },
  {
   "cell_type": "markdown",
   "id": "cdb53dff-710c-4543-94df-ad1530f70ec8",
   "metadata": {},
   "source": [
    "![Layers](images/layers.png)"
   ]
  },
  {
   "cell_type": "markdown",
   "id": "41908045-4a55-4965-b015-ff860fb94096",
   "metadata": {},
   "source": [
    "# The Index\n",
    " "
   ]
  },
  {
   "cell_type": "markdown",
   "id": "c06f49bf-8844-4c94-83c5-c4d6e6056c5b",
   "metadata": {},
   "source": [
    "```{exercise}\n",
    ":label: second\n",
    "1. List the colors of all the shapes in your document, in the order in which they appear. What can you say?\n",
    "2. In Python, edit your document to make the red rectangle appear *before* every other rectangle. \n",
    "Does this change the (relative) depth of this rectangle?\n",
    "3. List again the colors of all the shapes in your document and the corresponding *index*, a string which is an attribute of the shape.\n",
    "4. Compare the lexicographic order between these strings and their depth in the document. What can you say?\n",
    "```\n",
    "\n",
    "````{note} Lexicographic order\n",
    "\n",
    "   When Python strings are compared and sorted, by default the lexicographic order is used.\n",
    "\n",
    "   The lexicographic order generalizes the alphabetical order:\n",
    "\n",
    "   ```\n",
    "   >>> \"alpaca\" < \"guanaco\" < \"lama\" < \"vicuña\"\n",
    "   True\n",
    "   ```\n",
    "\n",
    "   When the first letters are identical, the shorter strings is sorted first:\n",
    "   ```\n",
    "   >>> \"a\" < \"alp\" < \"alpaca\"\n",
    "   True\n",
    "   ```\n",
    "\n",
    "   All uppercase letters come before lowercase letters:\n",
    "   \n",
    "   ```\n",
    "   >>> \"A\" < \"Z\" < \"a\" < \"z\"\n",
    "   ```\n",
    "\n",
    "   and therefore \n",
    "\n",
    "   ```\n",
    "   >>> \"Vicuña\" < \"alpaca\" < \"vicuña\"\n",
    "   True\n",
    "   ```\n",
    "\n",
    "   Digits are ordered \"naturally\":\n",
    "\n",
    "   ```\n",
    "   >>> \"0\" < \"1\" < \"2\" < \"3\" < \"4\" < \"5\" < \"6\" < \"7\" < \"8\" < \"9\"\n",
    "   True\n",
    "   ```\n",
    "\n",
    "   However, beware of the comparison of strings that represent numbers:\n",
    "\n",
    "   ```\n",
    "   >>> \"2\" < \"100\"\n",
    "   False\n",
    "   >>> sorted([\"2\", \"100\"])\n",
    "   ['100', '2']\n",
    "   ```\n",
    "\n",
    "   All digits come before letters:\n",
    "\n",
    "   ```\n",
    "   >>> \"0\" < \"1\" < \"9\" < \"A\" < \"B\" < \"Z\" < \"a\" < \"b\" < \"z\"\n",
    "   True\n",
    "   ```\n",
    "\n",
    "\n",
    "\n",
    "````"
   ]
  },
  {
   "cell_type": "markdown",
   "id": "bb3127b0-cf94-427a-be5e-edb5462c1ce0",
   "metadata": {},
   "source": [
    "**Exercice 2**\n",
    "\n",
    "1."
   ]
  },
  {
   "cell_type": "code",
   "execution_count": 83,
   "id": "e7c53c3d-c1c0-4ab6-b4f7-6e45375eb7ed",
   "metadata": {},
   "outputs": [],
   "source": [
    "import json\n",
    "\n",
    "layers = json.load(open(\"C:/Users/doria/cours_info/langage/tldraw-project/docs/layers.tldr\", 'r'))"
   ]
  },
  {
   "cell_type": "code",
   "execution_count": 107,
   "id": "b11575a0-1fe8-4fd4-80b9-043fc0ee9c07",
   "metadata": {},
   "outputs": [
    {
     "name": "stdout",
     "output_type": "stream",
     "text": [
      "black\n",
      "violet\n",
      "blue\n",
      "orange\n",
      "green\n",
      "red\n"
     ]
    }
   ],
   "source": [
    "for item in layers['records']:\n",
    "    if 'props' in item :\n",
    "        print (item['props']['color'])  "
   ]
  },
  {
   "cell_type": "markdown",
   "id": "d06407f0-45eb-4214-9425-f15e57b0a35e",
   "metadata": {},
   "source": [
    "Les couleurs sont affichées de celle qui est la plus au fond du document à celle la plus proche de l'observateur."
   ]
  },
  {
   "cell_type": "code",
   "execution_count": 99,
   "id": "4d5e9c7c-c8f2-4838-911b-efb84acfb66a",
   "metadata": {},
   "outputs": [],
   "source": [
    "layers_red_up = layers\n",
    "for item in layers_red_up['records']:\n",
    "    if 'props' in item :\n",
    "        if 'color' in item['props'] :\n",
    "            if item['props']['color'] == 'black':\n",
    "                black = item\n",
    "            if item['props']['color'] == 'violet':\n",
    "                violet = item\n",
    "            if item['props']['color'] == 'blue':\n",
    "                blue = item\n",
    "            if item['props']['color'] == 'orange':\n",
    "                orange = item\n",
    "            if item['props']['color'] == 'green':\n",
    "                green = item\n",
    "            if item['props']['color'] == 'red':\n",
    "                red = item\n",
    "\n",
    "for item in layers_red_up['records']:\n",
    "    if 'props' in item :\n",
    "        if 'color' in item['props'] :\n",
    "            if item['props']['color'] == 'black':\n",
    "                item = red\n",
    "            elif item['props']['color'] == 'violet':\n",
    "                item= black\n",
    "            elif item['props']['color'] == 'blue':\n",
    "                item = violet \n",
    "            elif item['props']['color'] == 'orange':\n",
    "                item = blue\n",
    "            elif item['props']['color'] == 'green':\n",
    "                item = orange\n",
    "            elif item['props']['color'] == 'red':\n",
    "                item = green\n",
    "\n",
    "with open('C:/Users/doria/cours_info/langage/tldraw-project/docs/layers_red_up.tldr', 'w') as file:\n",
    "    json.dump(layers_red_up, file)"
   ]
  },
  {
   "cell_type": "markdown",
   "id": "8767ea6b-e865-4e2c-915b-1449f4562e0c",
   "metadata": {},
   "source": [
    "Cela ne fonctionne pas, le programme ne parvient pas à remplacer le dictionnaire dans le fichier par celui qui est stocké en mémoire. Je n'ai pas le temps de voir plus loin les raisons de ce dysfonctionnement. \n",
    "\n",
    "D'autre part, il doit y avoir une méthode particulière, bien plus élégante pour réussir à atteindre l'objectif. \n",
    "\n",
    "3."
   ]
  },
  {
   "cell_type": "code",
   "execution_count": 105,
   "id": "9af5610a-30aa-4c4b-9dce-731759588f4b",
   "metadata": {},
   "outputs": [
    {
     "name": "stdout",
     "output_type": "stream",
     "text": [
      "black\n",
      "a1\n",
      "violet\n",
      "a2\n",
      "blue\n",
      "a3\n",
      "orange\n",
      "a4\n",
      "green\n",
      "a5\n",
      "red\n",
      "a6\n"
     ]
    }
   ],
   "source": [
    "for item in layers_red_up['records']:\n",
    "    if 'props' in item :\n",
    "        if 'color' in item['props'] :\n",
    "            print (item['props']['color'])\n",
    "            print (item['index'])"
   ]
  },
  {
   "cell_type": "code",
   "execution_count": 109,
   "id": "2050f074-481d-4a13-b551-f2c09429ce3c",
   "metadata": {},
   "outputs": [
    {
     "name": "stdout",
     "output_type": "stream",
     "text": [
      "black\n",
      "a1\n",
      "violet\n",
      "a2\n",
      "blue\n",
      "a3\n",
      "orange\n",
      "a4\n",
      "green\n",
      "a5\n",
      "red\n",
      "a0\n"
     ]
    }
   ],
   "source": [
    "import json\n",
    "\n",
    "test = json.load(open(\"C:/Users/doria/cours_info/langage/tldraw-project/docs/test.tldr\", 'r'))\n",
    "\n",
    "for item in test['records']:\n",
    "    if 'props' in item :\n",
    "        print (item['props']['color'])\n",
    "        print (item['index'])"
   ]
  },
  {
   "cell_type": "markdown",
   "id": "6f0ef8e5-acd7-42ef-8b4b-cc724a3f567a",
   "metadata": {},
   "source": [
    "4. Ici, on va seulement supposer le résultat que l'on est sensé obtenir. Nous avons effectué un test en mettant manuellement le rectangle rouge au dernier plan. Sur ce test, on voit que l'ordre d'apparition des couleurs ne change pas mais l'index change. L'index de la forme rouge devient le plus petit. Ainsi, on peut dire que la seule définition de la profondeur d'une forme est son index.\n",
    "\n",
    "   On peut donc penser que les index donnent la profondeur et sont de la forme 'a' et un numéro donnant l'ordre d'affichage. "
   ]
  },
  {
   "cell_type": "markdown",
   "id": "5541ef7f-67f5-48f9-8486-20bfa5b17109",
   "metadata": {},
   "source": [
    "# Fractional Indexing"
   ]
  },
  {
   "cell_type": "markdown",
   "id": "b2aa9801-d18f-4439-bebf-67c1fbe2e5fd",
   "metadata": {},
   "source": [
    "```{exercise}\n",
    "1. In the tldraw editor, insert a yellow rectangle into the document and use \"Actions/Send backward\" repeatedly to put it in a layer between the red and violet rectangles.\n",
    "2. Save this document and load it in Python.  Did the indices of the old rectangles change? \n",
    "3. What is the index of the new rectangle? Is this value consistent with the assumption you made in question 4 of [](#second)?\n",
    "```"
   ]
  },
  {
   "cell_type": "markdown",
   "id": "747e4296-e54e-4ae3-ab3c-0f3b31288c7c",
   "metadata": {},
   "source": [
    "**Exercice 3**\n",
    "\n",
    "2."
   ]
  },
  {
   "cell_type": "code",
   "execution_count": 111,
   "id": "446a465a-ff4e-440d-a01d-e3a89f7f44e0",
   "metadata": {},
   "outputs": [
    {
     "name": "stdout",
     "output_type": "stream",
     "text": [
      "black\n",
      "a1\n",
      "violet\n",
      "a2\n",
      "blue\n",
      "a3\n",
      "orange\n",
      "a4\n",
      "green\n",
      "a5\n",
      "red\n",
      "a6\n",
      "yellow\n",
      "a1V\n"
     ]
    }
   ],
   "source": [
    "import json\n",
    "\n",
    "layers_yellow = json.load(open(\"C:/Users/doria/cours_info/langage/tldraw-project/docs/layers_yellow.tldr\", 'r'))\n",
    "for item in layers_yellow['records']:\n",
    "    if 'props' in item :\n",
    "        print (item['props']['color'])\n",
    "        print (item['index'])"
   ]
  },
  {
   "cell_type": "markdown",
   "id": "b243292f-435a-4a37-846b-78f71d6453cf",
   "metadata": {},
   "source": [
    "Rien n'a changé sur les anciennes formes. Que ce soit l'ordre d'affichage ou les index. "
   ]
  },
  {
   "cell_type": "markdown",
   "id": "97397478-47a1-4d5d-bd21-e138fd5646a4",
   "metadata": {},
   "source": [
    "3. L'index de la forme jaune est `a1V` et n'est donc pas en accord avec la supposition de l'exercice précédent. "
   ]
  },
  {
   "cell_type": "markdown",
   "id": "14735fa1-8341-49a6-95ff-dff0882d38e0",
   "metadata": {},
   "source": [
    "![Yellow rectangle](images/add-yellow.png)"
   ]
  },
  {
   "cell_type": "markdown",
   "id": "2d9ac9b7-0771-4b4d-91ed-ac83d6e7bd77",
   "metadata": {},
   "source": [
    "Tldraw uses a technique called **fractional indexing** to generate new indices that fit between the existing ones.\n",
    "It is explained in details in the [Implementing Fractional Indexing](https://observablehq.com/@dgreensp/implementing-fractional-indexing) Observable (Javascript) notebook.\n",
    "\n",
    "The core idea of this method is to build a representation of indices as fractions in $\\left[0, 1\\right[$ which maps the\n",
    "lexicographic order into the the usual order on $\\mathbb{Q}$, \n",
    "then to solve the generation of intermediate indices in the fractional space since it's much easier there."
   ]
  },
  {
   "cell_type": "markdown",
   "id": "4ca6fd42-4078-4ef7-aee4-c299a0aa63fe",
   "metadata": {},
   "source": [
    "We associate to any string $\\mathtt{s}$ using only the 62 characters `\"0\"`, `\"1\"`, ... `\"9\"`, `\"A\"`, ... `\"Z\"`, `\"a\"`, ..., `\"z\"` as a fraction $\\mathcal{F}(\\mathtt{s}) \\in \\left[0, 1\\right[$ such that:\n",
    "\n",
    "$$\n",
    "\\mathcal{F}(\\mathtt{\"\"}) = 0\n",
    "$$\n",
    "\n",
    "$$\n",
    "\\mathcal{F}(\\mathtt{\"0\"}) = 0, \\; \\mathcal{F}(\\mathtt{\"1\"}) = \\frac{1}{62}, \\; \\dots\n",
    "$$\n",
    "\n",
    "$$\n",
    "\\mathcal{F}(\\mathtt{\"A\"}) = \\frac{10}{62}, \\; \\mathcal{F}(\\mathtt{\"B\"}) = \\frac{11}{62}, \\; \\dots\n",
    "$$\n",
    "$$\n",
    "\\mathcal{F}(\\mathtt{\"a\"}) = \\frac{36}{62}, \\; \\mathcal{F}(\\mathtt{\"b\"}) = \\frac{37}{62},\n",
    "\\; \\mathcal{F}(\\mathtt{\"z\"}) = \\frac{61}{62}.\n",
    "$$\n",
    "\n",
    "and for any character $\\mathtt{c}$ (i.e. string of length 1) and any string $\\mathtt{s}$,\n",
    "\n",
    "$$\n",
    "\\mathcal{F}(\\mathtt{c + s}) = \\mathcal{F}(\\mathtt{c}) + \\frac{\\mathcal{F}(\\mathtt{s})}{62}. \n",
    "$$\n",
    "\n",
    "For example:\n",
    "\n",
    "$$\n",
    "\\mathcal{F}(\\mathtt{\"abc\"})\n",
    "= \\frac{\\mathcal{F}(\\mathtt{\"a\"})}{62} + \\frac{\\mathcal{F}(\\mathtt{\"b\"})}{62^2} + \\frac{\\mathcal{F}(\\mathtt{\"c\"})}{62^3}\n",
    "= \\frac{36}{62} + \\frac{37}{62^2} + \\frac{38}{62^3}\n",
    "= \\frac{35179}{59582}\n",
    "$$\n",
    "    "
   ]
  },
  {
   "cell_type": "markdown",
   "id": "f787a69a-353c-4bcf-9189-38bc1d32ce2f",
   "metadata": {},
   "source": [
    "```{exercise}\n",
    "1. Assume that $\\mathcal{F}(\\mathtt{s1}) = \\mathcal{F}(\\mathtt{s2})$. What does this equality tell you about $\\mathtt{s1}$ and $\\mathtt{s2}$? \n",
    "2. Implement $\\mathcal{F}$ as `F` using the `fractions` module of the Python standard library.\n",
    "3. Make sure that all tests in the cell below pass.\n",
    "```"
   ]
  },
  {
   "cell_type": "markdown",
   "id": "c06c0ce0-5f4d-458c-acc1-7a9646f98e10",
   "metadata": {},
   "source": [
    "**Exercice 4**\n",
    "\n",
    "1. Si on a $\\mathcal{F}(\\mathtt{s1}) = \\mathcal{F}(\\mathtt{s2})$, on peut en déduire qu'on a $\\mathtt{s1} = \\mathtt{s2}$."
   ]
  },
  {
   "cell_type": "code",
   "execution_count": 112,
   "id": "2c36087e-d856-47f2-8c5b-d4bfce6eba7b",
   "metadata": {},
   "outputs": [],
   "source": [
    "from fractions import Fraction\n",
    "\n",
    "def F(string):\n",
    "    base = 62  \n",
    "    result = Fraction(0, 1)  \n",
    "    \n",
    "    for char in string:\n",
    "        if char.isdigit():\n",
    "            value = ord(char) - ord('0')  \n",
    "        elif char.isupper():\n",
    "            value = ord(char) - ord('A') + 10  \n",
    "        elif char.islower():\n",
    "            value = ord(char) - ord('a') + 36 \n",
    "        else:\n",
    "            raise ValueError(\"Invalid character: {}\".format(char))  \n",
    "            \n",
    "        result = result * base + Fraction(value, base)\n",
    "    \n",
    "    return result"
   ]
  },
  {
   "cell_type": "code",
   "execution_count": 4,
   "id": "c989ccab-5fce-4d4e-8c93-17c04c0ae915",
   "metadata": {},
   "outputs": [],
   "source": [
    "from fractions import Fraction\n",
    "\n",
    "ENABLE_TESTS = False # ℹ️ Set to True to test F whenever the cell is executed\n",
    "\n",
    "def F(string):\n",
    "    \"\"\"\n",
    "    >>> F(\"\") == Fraction(0, 62)\n",
    "    True\n",
    "    >>> F(\"0\") == Fraction(0, 62)  # ⚠️ Trailing zero!\n",
    "    True\n",
    "    >>> F(\"1\") == Fraction(1, 62)\n",
    "    True\n",
    "    >>> F(\"1000\") == Fraction(1, 62)  # ⚠️ Trailing zeros!\n",
    "    True\n",
    "    >>> F(\"9\") == Fraction(9, 62)\n",
    "    True\n",
    "    >>> F(\"A\") == Fraction(10, 62)\n",
    "    True\n",
    "    >>> F(\"Z\") == Fraction(35, 62)\n",
    "    True\n",
    "    >>> F(\"a\") == Fraction(36, 62)\n",
    "    True\n",
    "    >>> F(\"z\") == Fraction(61, 62)\n",
    "    True\n",
    "    \n",
    "    >>> F(\"a1\") == F(\"a\") + F(\"1\") / 62\n",
    "    True\n",
    "    >>> F(\"a1\")\n",
    "    Fraction(2233, 3844)\n",
    "    >>> F(\"a2\") == F(\"a\") + F(\"2\") / 62\n",
    "    True\n",
    "    >>> F(\"a2\")\n",
    "    Fraction(1117, 1922)\n",
    "    >>> F(\"a3\") == F(\"a\") + F(\"3\") / 62\n",
    "    True\n",
    "    >>> F(\"a3\")\n",
    "    Fraction(2235, 3844)\n",
    "\n",
    "    >>> F(\"abc\") == Fraction(35179, 59582)\n",
    "    True\n",
    "    >>> F(\"aardvark\") == Fraction(32218019837031, 54585026396224)\n",
    "    True\n",
    "    \"\"\"\n",
    "    pass # 🚧 TODO: implement this function\n",
    "\n",
    "if ENABLE_TESTS: \n",
    "    import doctest\n",
    "    doctest.run_docstring_examples(F, globals())"
   ]
  },
  {
   "cell_type": "markdown",
   "id": "6d92075e-3a67-48af-9e4f-afcfa443a131",
   "metadata": {},
   "source": [
    "```{exercise}\n",
    "1. Implement the inverse of the function $\\mathcal{F}$ (restricted to the strings with no trailing zeros) as a function `iF`.\n",
    "2. Make sure that all tests in the cell below pass.\n",
    "```"
   ]
  },
  {
   "cell_type": "markdown",
   "id": "a6d14e8f-8d6f-4927-b321-4be9dea413ad",
   "metadata": {},
   "source": [
    "**Exercice 5**\n",
    "\n",
    "1."
   ]
  },
  {
   "cell_type": "code",
   "execution_count": 114,
   "id": "70669ae9-3b77-47ac-b8f7-08d6b1680aa0",
   "metadata": {},
   "outputs": [],
   "source": [
    "def iF(fraction):\n",
    "    base = 62\n",
    "    result = \"\"\n",
    "    \n",
    "    while fraction > 0:\n",
    "        fraction *= base\n",
    "        digit = int(fraction)\n",
    "        fraction -= digit\n",
    "        if digit <= 9:\n",
    "            result += chr(ord('0') + digit)\n",
    "        elif digit <= 35:\n",
    "            result += chr(ord('A') + digit - 10)\n",
    "        else:\n",
    "            result += chr(ord('a') + digit - 36)\n",
    "    \n",
    "    return result"
   ]
  },
  {
   "cell_type": "code",
   "execution_count": 113,
   "id": "f51f104d-8625-4f0e-84c4-dcabad713c3b",
   "metadata": {},
   "outputs": [],
   "source": [
    "ENABLE_TESTS = False # ℹ️ Set to True to test F whenever the cell is executed\n",
    "\n",
    "def iF(fraction):\n",
    "    \"\"\"\n",
    "    >>> iF(F(\"\")) == \"\"\n",
    "    True\n",
    "    >>> iF(F(\"1\")) == \"1\"\n",
    "    True\n",
    "    >>> iF(F(\"A\")) == \"A\"\n",
    "    True\n",
    "    >>> iF(F(\"a\")) == \"a\"\n",
    "    True\n",
    "    >>> iF(F(\"abc\")) == \"abc\"\n",
    "    True\n",
    "    >>> iF(F(\"aardvark\")) == \"aardvark\"\n",
    "    True\n",
    "    \"\"\"\n",
    "    pass # 🚧 TODO: implement this function\n",
    "\n",
    "if ENABLE_TESTS: \n",
    "    import doctest\n",
    "    doctest.run_docstring_examples(iF, globals())"
   ]
  },
  {
   "cell_type": "markdown",
   "id": "ce370018-0eb4-4797-b7c9-a06b373b988b",
   "metadata": {},
   "source": [
    "```{exercise}\n",
    "1. Prove that if the strings $\\mathtt{s1}$ and $\\mathtt{s2}$ have no trailing zeros (e.g. \"hello\" is ok but not \"hell0\"),\n",
    "then $\\mathtt{s1} \\leq \\mathtt{s2}$ (in the lexicographic order) if and only if $\\mathcal{F}(\\mathtt{s1}) \\leq \\mathcal{F}(\\mathtt{s2})$\n",
    "(in the usual order on $\\mathbb{Q}$).\n",
    "\n",
    "2. Show that for any valid index (with no trailing zero), the formula\n",
    "\n",
    "   $$\n",
    "   \\mathtt{index\\_3} \n",
    "   = \n",
    "   \\mathcal{F}^{-1}\n",
    "   \\left(\n",
    "     \\frac{\n",
    "       \\mathcal{F}(\\mathtt{index\\_1}) + \\mathcal{F}(\\mathtt{index\\_2})\n",
    "     }{2}\n",
    "   \\right)\n",
    "   $$\n",
    "\n",
    "   defines a valid index.\n",
    "\n",
    "3. How are (lexicographically) ordered the strings $\\mathtt{index\\_1}, \\mathtt{index\\_2}$ and $\\mathtt{index\\_3}$?\n",
    "\n",
    "4. Implement a function `index_between` based on this analysis. Make sure that all the tests in the cell below pass.\n",
    "```"
   ]
  },
  {
   "cell_type": "code",
   "execution_count": 6,
   "id": "b3db2ca8-c99c-4961-82ed-a583e207bb8d",
   "metadata": {},
   "outputs": [],
   "source": [
    "ENABLE_TESTS = False # ℹ️ Set to True to test F whenever the cell is executed\n",
    "\n",
    "def index_between(index_1, index_2):\n",
    "    \"\"\"\n",
    "    >>> index_between(\"1\", \"2\")\n",
    "    '1V'\n",
    "    >>> index_between(\"a\", \"b\")\n",
    "    'aV'\n",
    "    >>> index_between(\"aardvark\", \"aardwolf\")\n",
    "    'aardwCohV'\n",
    "    \"\"\"\n",
    "    pass # 🚧 TODO: implement this function\n",
    "    \n",
    "if ENABLE_TESTS:\n",
    "    import doctest\n",
    "    doctest.run_docstring_examples(index_between, globals())"
   ]
  },
  {
   "cell_type": "markdown",
   "id": "0cb2553f-6847-427d-8f63-9d805c76e524",
   "metadata": {},
   "source": [
    "# Application\n",
    "\n",
    "```{exercise}\n",
    "1. Go back to your tldraw editor and bring your yellow rectangle to front.\n",
    "2. Save the corresponding document and load it as a Python object.\n",
    "3. Use the `index_between` function to patch its depth so that it goes back between the black and violet rectangles.\n",
    "4. Save the document and reload it into the tldraw editor to check that it worked.\n",
    "```"
   ]
  },
  {
   "cell_type": "markdown",
   "id": "5917af10-0dfc-45da-bcf6-8503395dca7c",
   "metadata": {},
   "source": [
    "\n",
    "![Add yellow on top](images/add-yellow-on-top.png)"
   ]
  }
 ],
 "metadata": {
  "kernelspec": {
   "display_name": "Python 3 (ipykernel)",
   "language": "python",
   "name": "python3"
  },
  "language_info": {
   "codemirror_mode": {
    "name": "ipython",
    "version": 3
   },
   "file_extension": ".py",
   "mimetype": "text/x-python",
   "name": "python",
   "nbconvert_exporter": "python",
   "pygments_lexer": "ipython3",
   "version": "3.11.4"
  }
 },
 "nbformat": 4,
 "nbformat_minor": 5
}
