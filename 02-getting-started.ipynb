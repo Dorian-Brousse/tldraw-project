{
 "cells": [
  {
   "cell_type": "markdown",
   "id": "2d474a3e-274d-4bf8-95f3-2c18179877d9",
   "metadata": {},
   "source": [
    "---\n",
    "title: Getting Started\n",
    "date: 2023-11-30 \n",
    "authors:\n",
    "  - name: Sébastien Boisgérault\n",
    "    email: Sebastien.Boisgerault@minesparis.psl.eu\n",
    "    url: https://github.com/boisgera\n",
    "    affiliations:\n",
    "      - institution: Mines Paris - PSL University\n",
    "        department: Institut des Transformation Numériques (ITN)\n",
    "github: boisgera\n",
    "license: CC-BY-4.0\n",
    "open_access: true\n",
    "---"
   ]
  },
  {
   "cell_type": "markdown",
   "id": "99eb7623-348a-4873-9200-614c9be5bdb6",
   "metadata": {},
   "source": [
    "![tldraw](images/hello-tldraw.png)    "
   ]
  },
  {
   "cell_type": "markdown",
   "id": "f2cbb2bd-92e6-4c23-95b5-7996e1850533",
   "metadata": {},
   "source": [
    "# A Simple Document"
   ]
  },
  {
   "cell_type": "markdown",
   "id": "c95958ae-0e8e-40b3-9a1a-963745eda44e",
   "metadata": {},
   "source": [
    "```{exercise} Create a \"Hello tldraw!\" document\n",
    "\n",
    " 1. Download the folder of this project on your computer. \n",
    "  \n",
    " 2. Create an tldraw document that contains the text \"Hello tldraw!\" and save it on your computer.\n",
    " \n",
    " 3. Rename your tldraw document `hello-tldraw.tldr` and move it into the `docs` subfolder of the project.\n",
    "```"
   ]
  },
  {
   "cell_type": "markdown",
   "id": "f663cb6a-c804-4438-a6bb-7132a7c86332",
   "metadata": {},
   "source": [
    "Tldraw files are (utf-8-encoded) text files and therefore can be easily inspected. \n",
    "\n",
    "```{exercise} What's the format of tldraw documents?\n",
    "\n",
    "  1. Print the content of your \"Hello tldraw!\" document into this notebook.\n",
    "\n",
    "  2. The tldraw document format is a dialect of a general-purpose structured data format. \n",
    "  \n",
    "     Which one is it? (JSON, XML, CSV? something else?)\n",
    "\n",
    "```\n"
   ]
  },
  {
   "cell_type": "markdown",
   "id": "673c64a1-d565-4900-a013-47e7bc375022",
   "metadata": {},
   "source": [
    "**Exercice 2**\n",
    "\n",
    "1. "
   ]
  },
  {
   "cell_type": "code",
   "execution_count": 74,
   "id": "4ec9ecef-d86f-41c3-9e06-595722086617",
   "metadata": {
    "scrolled": true
   },
   "outputs": [
    {
     "data": {
      "text/plain": [
       "'{\"tldrawFileFormatVersion\":1,\"schema\":{\"schemaVersion\":1,\"storeVersion\":4,\"recordVersions\":{\"asset\":{\"version\":1,\"subTypeKey\":\"type\",\"subTypeVersions\":{\"image\":3,\"video\":3,\"bookmark\":1}},\"camera\":{\"version\":1},\"document\":{\"version\":2},\"instance\":{\"version\":24},\"instance_page_state\":{\"version\":5},\"page\":{\"version\":1},\"shape\":{\"version\":3,\"subTypeKey\":\"type\",\"subTypeVersions\":{\"group\":0,\"text\":1,\"bookmark\":2,\"draw\":1,\"geo\":8,\"note\":5,\"line\":1,\"frame\":0,\"arrow\":3,\"highlight\":0,\"embed\":4,\"image\":3,\"video\":2}},\"instance_presence\":{\"version\":5},\"pointer\":{\"version\":1}}},\"records\":[{\"gridSize\":10,\"name\":\"\",\"meta\":{},\"id\":\"document:document\",\"typeName\":\"document\"},{\"meta\":{},\"id\":\"page:page\",\"name\":\"Page 1\",\"index\":\"a1\",\"typeName\":\"page\"},{\"x\":146.26821464985846,\"y\":4242.617811254286,\"rotation\":0,\"isLocked\":false,\"opacity\":1,\"meta\":{},\"type\":\"text\",\"props\":{\"color\":\"black\",\"size\":\"m\",\"w\":1070.199951171875,\"text\":\"Hello tldraw!\",\"font\":\"draw\",\"align\":\"middle\",\"autoSize\":false,\"scale\":1},\"parentId\":\"page:page\",\"index\":\"a1\",\"id\":\"shape:I5N2XKKIuqENNIfC0u2F1\",\"typeName\":\"shape\"},{\"followingUserId\":null,\"opacityForNextShape\":1,\"stylesForNextShape\":{},\"brush\":null,\"scribbles\":[],\"cursor\":{\"type\":\"default\",\"rotation\":0},\"isFocusMode\":false,\"exportBackground\":true,\"isDebugMode\":false,\"isToolLocked\":false,\"screenBounds\":{\"x\":0,\"y\":0,\"w\":2704,\"h\":1038.4000244140625},\"insets\":[false,false,true,false],\"zoomBrush\":null,\"isGridMode\":false,\"isPenMode\":false,\"chatMessage\":\"\",\"isChatting\":false,\"highlightedUserIds\":[],\"canMoveCamera\":true,\"isFocused\":true,\"devicePixelRatio\":1.25,\"isCoarsePointer\":false,\"isHoveringCanvas\":true,\"openMenus\":[],\"isChangingStyle\":false,\"isReadonly\":false,\"meta\":{},\"duplicateProps\":null,\"id\":\"instance:instance\",\"currentPageId\":\"page:page\",\"typeName\":\"instance\"},{\"x\":-351.6113545874657,\"y\":-4108.508518573041,\"z\":3.7974983358324104,\"meta\":{},\"id\":\"camera:page:page\",\"typeName\":\"camera\"},{\"editingShapeId\":null,\"croppingShapeId\":null,\"selectedShapeIds\":[],\"hoveredShapeId\":null,\"erasingShapeIds\":[],\"hintingShapeIds\":[],\"focusedGroupId\":null,\"meta\":{},\"id\":\"instance_page_state:page:page\",\"pageId\":\"page:page\",\"typeName\":\"instance_page_state\"},{\"id\":\"pointer:pointer\",\"typeName\":\"pointer\",\"x\":564.5936698557304,\"y\":4213.735689400997,\"lastActivityTimestamp\":1707407501525,\"meta\":{}}]}'"
      ]
     },
     "execution_count": 74,
     "metadata": {},
     "output_type": "execute_result"
    }
   ],
   "source": [
    "hello_tldraw = open (\"C:/Users/doria/cours_info/langage/tldraw-project/docs/hello-tldraw.tldr\", \"r\")\n",
    "hello_tldraw.read()"
   ]
  },
  {
   "cell_type": "markdown",
   "id": "7a93a1d3-9387-4fc2-a1ad-a54066423462",
   "metadata": {},
   "source": [
    "2. \n",
    "\n",
    "Il s'agit d'un encodage au format JSON."
   ]
  },
  {
   "cell_type": "markdown",
   "id": "a8f5e1cc-1425-4394-8d73-47640d66d298",
   "metadata": {},
   "source": [
    "\n",
    "```{exercise} Load the document\n",
    ":label: load\n",
    "\n",
    " 1. Find the Python standard library that deals with the file format use by tldraw.\n",
    "\n",
    " 2. Use it to load the tldraw document as a tree-like structure (⚠️ not as a string!).\n",
    "\n",
    " 3. Name this structure `hello`.\n",
    "\n",
    "```"
   ]
  },
  {
   "cell_type": "markdown",
   "id": "4c11d6fa-f5e5-4b3e-818e-6b8a83d8800c",
   "metadata": {},
   "source": [
    "**Exercice 3**"
   ]
  },
  {
   "cell_type": "code",
   "execution_count": 75,
   "id": "9fc64ad6-6aae-4716-9e8d-9971c039a5eb",
   "metadata": {},
   "outputs": [],
   "source": [
    "import json"
   ]
  },
  {
   "cell_type": "code",
   "execution_count": 76,
   "id": "d03ef8fb-6c07-42eb-9d99-412a947cf3d8",
   "metadata": {},
   "outputs": [
    {
     "data": {
      "text/plain": [
       "{'tldrawFileFormatVersion': 1,\n",
       " 'schema': {'schemaVersion': 1,\n",
       "  'storeVersion': 4,\n",
       "  'recordVersions': {'asset': {'version': 1,\n",
       "    'subTypeKey': 'type',\n",
       "    'subTypeVersions': {'image': 3, 'video': 3, 'bookmark': 1}},\n",
       "   'camera': {'version': 1},\n",
       "   'document': {'version': 2},\n",
       "   'instance': {'version': 24},\n",
       "   'instance_page_state': {'version': 5},\n",
       "   'page': {'version': 1},\n",
       "   'shape': {'version': 3,\n",
       "    'subTypeKey': 'type',\n",
       "    'subTypeVersions': {'group': 0,\n",
       "     'text': 1,\n",
       "     'bookmark': 2,\n",
       "     'draw': 1,\n",
       "     'geo': 8,\n",
       "     'note': 5,\n",
       "     'line': 1,\n",
       "     'frame': 0,\n",
       "     'arrow': 3,\n",
       "     'highlight': 0,\n",
       "     'embed': 4,\n",
       "     'image': 3,\n",
       "     'video': 2}},\n",
       "   'instance_presence': {'version': 5},\n",
       "   'pointer': {'version': 1}}},\n",
       " 'records': [{'gridSize': 10,\n",
       "   'name': '',\n",
       "   'meta': {},\n",
       "   'id': 'document:document',\n",
       "   'typeName': 'document'},\n",
       "  {'meta': {},\n",
       "   'id': 'page:page',\n",
       "   'name': 'Page 1',\n",
       "   'index': 'a1',\n",
       "   'typeName': 'page'},\n",
       "  {'x': 146.26821464985846,\n",
       "   'y': 4242.617811254286,\n",
       "   'rotation': 0,\n",
       "   'isLocked': False,\n",
       "   'opacity': 1,\n",
       "   'meta': {},\n",
       "   'type': 'text',\n",
       "   'props': {'color': 'black',\n",
       "    'size': 'm',\n",
       "    'w': 1070.199951171875,\n",
       "    'text': 'Hello tldraw!',\n",
       "    'font': 'draw',\n",
       "    'align': 'middle',\n",
       "    'autoSize': False,\n",
       "    'scale': 1},\n",
       "   'parentId': 'page:page',\n",
       "   'index': 'a1',\n",
       "   'id': 'shape:I5N2XKKIuqENNIfC0u2F1',\n",
       "   'typeName': 'shape'},\n",
       "  {'followingUserId': None,\n",
       "   'opacityForNextShape': 1,\n",
       "   'stylesForNextShape': {},\n",
       "   'brush': None,\n",
       "   'scribbles': [],\n",
       "   'cursor': {'type': 'default', 'rotation': 0},\n",
       "   'isFocusMode': False,\n",
       "   'exportBackground': True,\n",
       "   'isDebugMode': False,\n",
       "   'isToolLocked': False,\n",
       "   'screenBounds': {'x': 0, 'y': 0, 'w': 2704, 'h': 1038.4000244140625},\n",
       "   'insets': [False, False, True, False],\n",
       "   'zoomBrush': None,\n",
       "   'isGridMode': False,\n",
       "   'isPenMode': False,\n",
       "   'chatMessage': '',\n",
       "   'isChatting': False,\n",
       "   'highlightedUserIds': [],\n",
       "   'canMoveCamera': True,\n",
       "   'isFocused': True,\n",
       "   'devicePixelRatio': 1.25,\n",
       "   'isCoarsePointer': False,\n",
       "   'isHoveringCanvas': True,\n",
       "   'openMenus': [],\n",
       "   'isChangingStyle': False,\n",
       "   'isReadonly': False,\n",
       "   'meta': {},\n",
       "   'duplicateProps': None,\n",
       "   'id': 'instance:instance',\n",
       "   'currentPageId': 'page:page',\n",
       "   'typeName': 'instance'},\n",
       "  {'x': -351.6113545874657,\n",
       "   'y': -4108.508518573041,\n",
       "   'z': 3.7974983358324104,\n",
       "   'meta': {},\n",
       "   'id': 'camera:page:page',\n",
       "   'typeName': 'camera'},\n",
       "  {'editingShapeId': None,\n",
       "   'croppingShapeId': None,\n",
       "   'selectedShapeIds': [],\n",
       "   'hoveredShapeId': None,\n",
       "   'erasingShapeIds': [],\n",
       "   'hintingShapeIds': [],\n",
       "   'focusedGroupId': None,\n",
       "   'meta': {},\n",
       "   'id': 'instance_page_state:page:page',\n",
       "   'pageId': 'page:page',\n",
       "   'typeName': 'instance_page_state'},\n",
       "  {'id': 'pointer:pointer',\n",
       "   'typeName': 'pointer',\n",
       "   'x': 564.5936698557304,\n",
       "   'y': 4213.735689400997,\n",
       "   'lastActivityTimestamp': 1707407501525,\n",
       "   'meta': {}}]}"
      ]
     },
     "execution_count": 76,
     "metadata": {},
     "output_type": "execute_result"
    }
   ],
   "source": [
    "hello = json.load(open(\"C:/Users/doria/cours_info/langage/tldraw-project/docs/hello-tldraw.tldr\", 'r'))\n",
    "hello"
   ]
  },
  {
   "cell_type": "markdown",
   "id": "a6ce392d-b8fa-4df2-a5e1-e5c9b81dffc8",
   "metadata": {},
   "source": [
    "# Records & Shapes"
   ]
  },
  {
   "cell_type": "markdown",
   "id": "c30a7788-e59e-42ab-a5da-c43aa1bb0872",
   "metadata": {},
   "source": [
    "```{exercise} Structure\n",
    ":label:\n",
    "\n",
    " 1. Can you locate a list of \"records\" inside `doc`? Name that list `records`.\n",
    "\n",
    " 2. Records all have a type name. Can you list all of them?\n",
    "\n",
    " 3. There should be a single shape among your records. What's it's `type`?\n",
    "\n",
    " 4. Name `hello_text` this record and display it in the notebook\n",
    "\n",
    "```"
   ]
  },
  {
   "cell_type": "markdown",
   "id": "e2304e21-2bd5-4aed-9ba2-96c1caa98563",
   "metadata": {},
   "source": [
    "**Exercice 4**\n",
    "\n",
    "1."
   ]
  },
  {
   "cell_type": "code",
   "execution_count": 84,
   "id": "4d900c19-a4b8-4738-a4e1-fd5a73421e70",
   "metadata": {
    "scrolled": true
   },
   "outputs": [
    {
     "data": {
      "text/plain": [
       "[{'gridSize': 10,\n",
       "  'name': '',\n",
       "  'meta': {},\n",
       "  'id': 'document:document',\n",
       "  'typeName': 'document'},\n",
       " {'meta': {},\n",
       "  'id': 'page:page',\n",
       "  'name': 'Page 1',\n",
       "  'index': 'a1',\n",
       "  'typeName': 'page'},\n",
       " {'x': 146.26821464985846,\n",
       "  'y': 4242.617811254286,\n",
       "  'rotation': 0,\n",
       "  'isLocked': False,\n",
       "  'opacity': 1,\n",
       "  'meta': {},\n",
       "  'type': 'text',\n",
       "  'props': {'color': 'black',\n",
       "   'size': 'm',\n",
       "   'w': 1070.199951171875,\n",
       "   'text': 'Hello Python!',\n",
       "   'font': 'draw',\n",
       "   'align': 'middle',\n",
       "   'autoSize': False,\n",
       "   'scale': 1},\n",
       "  'parentId': 'page:page',\n",
       "  'index': 'a1',\n",
       "  'id': 'shape:I5N2XKKIuqENNIfC0u2F1',\n",
       "  'typeName': 'shape'},\n",
       " {'followingUserId': None,\n",
       "  'opacityForNextShape': 1,\n",
       "  'stylesForNextShape': {},\n",
       "  'brush': None,\n",
       "  'scribbles': [],\n",
       "  'cursor': {'type': 'default', 'rotation': 0},\n",
       "  'isFocusMode': False,\n",
       "  'exportBackground': True,\n",
       "  'isDebugMode': False,\n",
       "  'isToolLocked': False,\n",
       "  'screenBounds': {'x': 0, 'y': 0, 'w': 2704, 'h': 1038.4000244140625},\n",
       "  'insets': [False, False, True, False],\n",
       "  'zoomBrush': None,\n",
       "  'isGridMode': False,\n",
       "  'isPenMode': False,\n",
       "  'chatMessage': '',\n",
       "  'isChatting': False,\n",
       "  'highlightedUserIds': [],\n",
       "  'canMoveCamera': True,\n",
       "  'isFocused': True,\n",
       "  'devicePixelRatio': 1.25,\n",
       "  'isCoarsePointer': False,\n",
       "  'isHoveringCanvas': True,\n",
       "  'openMenus': [],\n",
       "  'isChangingStyle': False,\n",
       "  'isReadonly': False,\n",
       "  'meta': {},\n",
       "  'duplicateProps': None,\n",
       "  'id': 'instance:instance',\n",
       "  'currentPageId': 'page:page',\n",
       "  'typeName': 'instance'},\n",
       " {'x': -351.6113545874657,\n",
       "  'y': -4108.508518573041,\n",
       "  'z': 3.7974983358324104,\n",
       "  'meta': {},\n",
       "  'id': 'camera:page:page',\n",
       "  'typeName': 'camera'},\n",
       " {'editingShapeId': None,\n",
       "  'croppingShapeId': None,\n",
       "  'selectedShapeIds': [],\n",
       "  'hoveredShapeId': None,\n",
       "  'erasingShapeIds': [],\n",
       "  'hintingShapeIds': [],\n",
       "  'focusedGroupId': None,\n",
       "  'meta': {},\n",
       "  'id': 'instance_page_state:page:page',\n",
       "  'pageId': 'page:page',\n",
       "  'typeName': 'instance_page_state'},\n",
       " {'id': 'pointer:pointer',\n",
       "  'typeName': 'pointer',\n",
       "  'x': 564.5936698557304,\n",
       "  'y': 4213.735689400997,\n",
       "  'lastActivityTimestamp': 1707407501525,\n",
       "  'meta': {}}]"
      ]
     },
     "execution_count": 84,
     "metadata": {},
     "output_type": "execute_result"
    }
   ],
   "source": [
    "records = hello['records']"
   ]
  },
  {
   "cell_type": "markdown",
   "id": "12baa7ab-9796-41a1-88c6-62e2229bcd3e",
   "metadata": {},
   "source": [
    "2. Le programme ci dessous liste les différents types de nom dans records. "
   ]
  },
  {
   "cell_type": "code",
   "execution_count": 78,
   "id": "f9d76576-292a-4ea2-aa99-0e0893ab6e9a",
   "metadata": {},
   "outputs": [
    {
     "name": "stdout",
     "output_type": "stream",
     "text": [
      "document\n",
      "page\n",
      "shape\n",
      "instance\n",
      "camera\n",
      "instance_page_state\n",
      "pointer\n"
     ]
    }
   ],
   "source": [
    "for item in records:\n",
    "    if 'typeName' in item:\n",
    "        print(item['typeName'])"
   ]
  },
  {
   "cell_type": "markdown",
   "id": "bc391427-6569-4d2b-a6d9-45501128a047",
   "metadata": {},
   "source": [
    "3. Le programme ci dessous extrait le type correspondant à shape."
   ]
  },
  {
   "cell_type": "code",
   "execution_count": 79,
   "id": "0317538d-6977-4c82-968d-773fd5e4ed5f",
   "metadata": {},
   "outputs": [
    {
     "name": "stdout",
     "output_type": "stream",
     "text": [
      "text\n"
     ]
    }
   ],
   "source": [
    "for item in records:\n",
    "    if 'typeName' in item:\n",
    "        if item['typeName'] == 'shape' :\n",
    "            print (item['type'])"
   ]
  },
  {
   "cell_type": "markdown",
   "id": "680c819a-c103-48fa-91ab-a27725682be7",
   "metadata": {},
   "source": [
    "4. Le programme ci dessous extrait tout le dictionnaire correspondant au record 'shape'."
   ]
  },
  {
   "cell_type": "code",
   "execution_count": 80,
   "id": "9a07aeee-035a-4451-acae-4eaed824f3e8",
   "metadata": {},
   "outputs": [
    {
     "name": "stdout",
     "output_type": "stream",
     "text": [
      "{'x': 146.26821464985846, 'y': 4242.617811254286, 'rotation': 0, 'isLocked': False, 'opacity': 1, 'meta': {}, 'type': 'text', 'props': {'color': 'black', 'size': 'm', 'w': 1070.199951171875, 'text': 'Hello tldraw!', 'font': 'draw', 'align': 'middle', 'autoSize': False, 'scale': 1}, 'parentId': 'page:page', 'index': 'a1', 'id': 'shape:I5N2XKKIuqENNIfC0u2F1', 'typeName': 'shape'}\n"
     ]
    }
   ],
   "source": [
    "for item in records:\n",
    "    if 'typeName' in item:\n",
    "        if item['typeName'] == 'shape' :\n",
    "            hello_text = item\n",
    "            print (item)"
   ]
  },
  {
   "cell_type": "markdown",
   "id": "88a29de9-0fb7-4173-8f5e-29377e5e2147",
   "metadata": {},
   "source": [
    "# Edit the Document"
   ]
  },
  {
   "cell_type": "markdown",
   "id": "0e3880a5-049b-4d0a-a4aa-2678eff6406c",
   "metadata": {},
   "source": [
    "```{exercise} Text Content\n",
    "\n",
    "  1. Locate where in the `hello_text` record the text content is located.\n",
    "  \n",
    "  2. Replace \"Hello tldraw!\" with \"Hello Python!\"\n",
    "\n",
    "  3. Save the corresponding document in the directory `docs` as a `hello-python.tldr` file.\n",
    "\n",
    "  4. Load it in the tldraw editor and check that you end up with something similar to the picture below.\n",
    "\n",
    "```"
   ]
  },
  {
   "cell_type": "markdown",
   "id": "6b11325e-8766-4e0f-992d-6119aa5f2f5c",
   "metadata": {},
   "source": [
    "**Exercice 5**\n",
    "\n",
    "1. Le contenu du texte est stocké dans une catégorie nommée 'text'."
   ]
  },
  {
   "cell_type": "markdown",
   "id": "3c7e7519-0160-4d28-85e1-be759551218f",
   "metadata": {},
   "source": [
    "2."
   ]
  },
  {
   "cell_type": "code",
   "execution_count": 81,
   "id": "49461758-8c95-4e21-b560-0759b0da1714",
   "metadata": {},
   "outputs": [
    {
     "data": {
      "text/plain": [
       "{'x': 146.26821464985846,\n",
       " 'y': 4242.617811254286,\n",
       " 'rotation': 0,\n",
       " 'isLocked': False,\n",
       " 'opacity': 1,\n",
       " 'meta': {},\n",
       " 'type': 'text',\n",
       " 'props': {'color': 'black',\n",
       "  'size': 'm',\n",
       "  'w': 1070.199951171875,\n",
       "  'text': 'Hello Python!',\n",
       "  'font': 'draw',\n",
       "  'align': 'middle',\n",
       "  'autoSize': False,\n",
       "  'scale': 1},\n",
       " 'parentId': 'page:page',\n",
       " 'index': 'a1',\n",
       " 'id': 'shape:I5N2XKKIuqENNIfC0u2F1',\n",
       " 'typeName': 'shape'}"
      ]
     },
     "execution_count": 81,
     "metadata": {},
     "output_type": "execute_result"
    }
   ],
   "source": [
    "hello_text['props']['text'] = 'Hello Python!'\n",
    "hello_text"
   ]
  },
  {
   "cell_type": "markdown",
   "id": "929762a9-9df5-4b98-be2e-ef37ec64fa2f",
   "metadata": {},
   "source": [
    "3."
   ]
  },
  {
   "cell_type": "code",
   "execution_count": 82,
   "id": "00a20c08-5a85-4770-96e1-8c95ccae7f5f",
   "metadata": {},
   "outputs": [],
   "source": [
    "hello_python = hello\n",
    "for item in hello_python['records']:\n",
    "    if 'typeName' in item:\n",
    "        if item['typeName'] == 'shape' :\n",
    "            item = hello_text\n",
    "            \n",
    "with open('C:/Users/doria/cours_info/langage/tldraw-project/docs/hello-python.tldr', 'w') as file:\n",
    "    json.dump(hello_python, file)"
   ]
  },
  {
   "cell_type": "markdown",
   "id": "fa8286ea-4bd0-44bc-acae-6fdbeca5d9b9",
   "metadata": {},
   "source": [
    "4. Ca fonctionne. Seulement, il ne faut pas relancer la cellule de la question 3 sous peine de beug que je ne m'explique pas. "
   ]
  },
  {
   "cell_type": "markdown",
   "id": "1f95f445-0b47-4cea-a53b-b8d0a8bed59f",
   "metadata": {},
   "source": [
    "![](images/hello-python.png)"
   ]
  }
 ],
 "metadata": {
  "kernelspec": {
   "display_name": "Python 3 (ipykernel)",
   "language": "python",
   "name": "python3"
  },
  "language_info": {
   "codemirror_mode": {
    "name": "ipython",
    "version": 3
   },
   "file_extension": ".py",
   "mimetype": "text/x-python",
   "name": "python",
   "nbconvert_exporter": "python",
   "pygments_lexer": "ipython3",
   "version": "3.11.4"
  }
 },
 "nbformat": 4,
 "nbformat_minor": 5
}
